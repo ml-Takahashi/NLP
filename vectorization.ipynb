{
 "cells": [
  {
   "cell_type": "markdown",
   "metadata": {},
   "source": [
    "# 動作確認用のファイル"
   ]
  },
  {
   "cell_type": "code",
   "execution_count": 138,
   "metadata": {},
   "outputs": [],
   "source": [
    "import pandas as pd\n",
    "import math\n",
    "import numpy as np\n",
    "import pickle\n",
    "import os"
   ]
  },
  {
   "cell_type": "code",
   "execution_count": 2,
   "metadata": {},
   "outputs": [],
   "source": [
    "tanka = pd.read_csv(\"kindai.csv\",header=None)\n",
    "waka = pd.read_csv(\"waka_half.csv\",header=None)"
   ]
  },
  {
   "cell_type": "code",
   "execution_count": 147,
   "metadata": {},
   "outputs": [
    {
     "name": "stdout",
     "output_type": "stream",
     "text": [
      "<class 'pandas.core.frame.DataFrame'>\n",
      "RangeIndex: 14292 entries, 0 to 14291\n",
      "Data columns (total 1 columns):\n",
      " #   Column  Non-Null Count  Dtype \n",
      "---  ------  --------------  ----- \n",
      " 0   0       14292 non-null  object\n",
      "dtypes: object(1)\n",
      "memory usage: 111.8+ KB\n"
     ]
    }
   ],
   "source": [
    "waka.info()"
   ]
  },
  {
   "cell_type": "code",
   "execution_count": 3,
   "metadata": {},
   "outputs": [
    {
     "name": "stdout",
     "output_type": "stream",
     "text": [
      "<class 'pandas.core.frame.DataFrame'>\n",
      "RangeIndex: 13963 entries, 0 to 13962\n",
      "Data columns (total 1 columns):\n",
      " #   Column  Non-Null Count  Dtype \n",
      "---  ------  --------------  ----- \n",
      " 0   0       13963 non-null  object\n",
      "dtypes: object(1)\n",
      "memory usage: 109.2+ KB\n",
      "None\n",
      "                                     0\n",
      "0  あああらき なげきやながき くろかみも ひとときにして あせやしぬべし\n",
      "1  あああらき なげきやなんじ れはかりは てんもうごけと なくにもにたる\n",
      "2  ああきみは いたましきまで ようちなる なさけにゑひぬ かなしからずや\n",
      "3  ああきみは かたるにたらず よわきじん よわきこいをば もてあそぶかな\n",
      "4  ああきみは すむむねもなき さびしさを かたるかなみだ かわきしめもて\n"
     ]
    }
   ],
   "source": [
    "print(tanka.info())\n",
    "print(tanka.head())"
   ]
  },
  {
   "cell_type": "code",
   "execution_count": 4,
   "metadata": {},
   "outputs": [
    {
     "name": "stdout",
     "output_type": "stream",
     "text": [
      "<class 'pandas.core.frame.DataFrame'>\n",
      "RangeIndex: 14292 entries, 0 to 14291\n",
      "Data columns (total 1 columns):\n",
      " #   Column  Non-Null Count  Dtype \n",
      "---  ------  --------------  ----- \n",
      " 0   0       14292 non-null  object\n",
      "dtypes: object(1)\n",
      "memory usage: 111.8+ KB\n",
      "None\n",
      "                                     0\n",
      "0  あかからは みるへきものを かりかねの いつこはかりに なきてゆくらむ\n",
      "1  あかさりし おもかけはかり うつしても ちきりはさてや やまのゐのみつ\n",
      "2  あかさりし きみかにほひの こひしさに うめのはなをそ けさはをりつる\n",
      "3  あかさりし そてかとにほふ うめかかに おもひなくさむ あかつきのそら\n",
      "4  あかさりし そてのわかれの なみたより かたみかほなる つきそみにそふ\n"
     ]
    }
   ],
   "source": [
    "print(waka.info())\n",
    "print(waka.head())"
   ]
  },
  {
   "cell_type": "code",
   "execution_count": 202,
   "metadata": {},
   "outputs": [],
   "source": [
    "def vectorize_df(df,n=3,text_num=1000):\n",
    "    \"\"\"\n",
    "    vector,idを保持するdfと、文ごとの単語の出現回数を保持するdfを取得する関数。\n",
    "    \n",
    "    Parameters\n",
    "    ----------\n",
    "    df : pd.DataFrame\n",
    "        和歌or短歌のデータフレーム。\n",
    "    n : int\n",
    "        文を区切る文字数。\n",
    "\n",
    "    Returns\n",
    "    -------\n",
    "    out_df : pd.DataFrame\n",
    "        vector,idを保持するデータフレーム。\n",
    "    id_df : pd.DataFrame\n",
    "        文ごとの単語の出現回数を保持するデータフレーム。\n",
    "    \"\"\"\n",
    "    list_df = df.apply(split_text,axis=1)\n",
    "    tri_gram_df = list_df.apply(n_gram,n=n)\n",
    "    vec_id_dic = calc_vector(tri_gram_df)\n",
    "    out_df = convert_to_vector(tri_gram_df,vec_id_dic)\n",
    "    id_df = count_id(out_df,vec_id_dic,start_point=0,text_num=text_num)\n",
    "    return out_df,id_df,vec_id_dic\n",
    "\n",
    "def split_text(text_record):\n",
    "    return text_record.loc[0].split(\" \")\n",
    "\n",
    "def n_gram(text_list,n):\n",
    "    ans = []\n",
    "    for text in text_list:\n",
    "        gram = []\n",
    "        for i in range(len(text)-(n-1)):\n",
    "            gram.append(text[i:i+n])\n",
    "        ans.extend(gram)\n",
    "    return ans\n",
    "\n",
    "def calc_vector(gram_df):\n",
    "    vector = {}\n",
    "    vector[\"vector\"] = {}  # ベクトルを保持\n",
    "    vector[\"id\"] = {}      # 単語ごとにidを割り当て\n",
    "    vector[\"count\"] = {}   # 単語の出現回数をカウント\n",
    "    vector[\"word\"] = {}    # idからwordを取得する\n",
    "    r2 = 0\n",
    "    id = 0\n",
    "    for line in gram_df:\n",
    "        for word in line:\n",
    "            if word in vector[\"count\"].keys():\n",
    "                vector[\"count\"][word] += 1\n",
    "\n",
    "            else:\n",
    "                vector[\"count\"][word] = 1\n",
    "                vector[\"id\"][word] = id\n",
    "                vector[\"word\"][id] = word\n",
    "                id += 1\n",
    "\n",
    "    for word in vector[\"count\"].keys():\n",
    "        r2 += vector[\"count\"][word]**2\n",
    "\n",
    "    r = math.sqrt(r2)\n",
    "    for word in vector[\"count\"].keys():\n",
    "        vector[\"vector\"][word] = vector[\"count\"][word] / r\n",
    "\n",
    "    return vector\n",
    "\n",
    "def convert_to_vector(df,dic):\n",
    "    out_vec_list = []\n",
    "    out_id_list = []\n",
    "    out_df = pd.DataFrame()\n",
    "    for i in range(df.shape[0]):\n",
    "        vec_list = []\n",
    "        id_list = []\n",
    "        word_list = df.loc[i]\n",
    "        for word in word_list:\n",
    "            vec_list.append(dic[\"vector\"][word])\n",
    "            id_list.append(dic[\"id\"][word])\n",
    "        out_vec_list.append(vec_list)\n",
    "        out_id_list.append(id_list)\n",
    "    out_df[\"vector\"] = out_vec_list\n",
    "    out_df[\"id\"] = out_id_list\n",
    "    return out_df\n",
    "\n",
    "def count_id(df,dic,start_point=0,text_num=1000):\n",
    "    i = 0\n",
    "    id_df = pd.DataFrame(columns=dic[\"id\"])\n",
    "    height = id_df.shape[0]\n",
    "    width = id_df.shape[1]\n",
    "    end_point = start_point + text_num\n",
    "    for id_list in df[\"id\"][start_point:end_point]:\n",
    "        id_df.loc[i] = np.zeros(width,dtype=int)\n",
    "        for id in id_list:\n",
    "            id_df.loc[i,dic[\"word\"][id]] += 1\n",
    "        i += 1\n",
    "        if i==end_point:\n",
    "            return id_df\n",
    "    return id_df\n",
    "\n",
    "def save_df(data_df,n,save_dir,save_file,waka_or_tanka,text_num=1000):\n",
    "    for i in range((waka.shape[0]//text_num)+1):\n",
    "        sp = i*text_num\n",
    "        save_path = os.path.join(save_dir,f\"{i}_\"+save_file)\n",
    "        if sp==0:\n",
    "            vector_id_df,id_df,vec_id_dic = vectorize_df(data_df,text_num=text_num)\n",
    "            vector_id_df.to_pickle(f\"{waka_or_tanka}_vector_id_df.pkl\")\n",
    "        else:\n",
    "            id_df = count_id(vector_id_df,vec_id_dic,start_point=sp,text_num=text_num)\n",
    "        id_df.to_pickle(save_path)\n",
    "\n",
    "def concat_df(data_dir,save_dir,save_file):\n",
    "    save_name = os.path.join(save_dir,save_file)\n",
    "    df_list = []\n",
    "    for i,file_name in enumerate(os.listdir(data_dir)):\n",
    "        with open(os.path.join(data_dir,file_name), mode=\"rb\") as f:\n",
    "            df_list.append(pickle.load(f))\n",
    "    save_df = pd.concat(df_list,axis=0).reset_index().drop(\"index\",axis=1)\n",
    "    print(save_df)\n",
    "    save_df.to_pickle(save_name)"
   ]
  },
  {
   "cell_type": "code",
   "execution_count": 203,
   "metadata": {},
   "outputs": [
    {
     "ename": "KeyboardInterrupt",
     "evalue": "",
     "output_type": "error",
     "traceback": [
      "\u001b[0;31m---------------------------------------------------------------------------\u001b[0m",
      "\u001b[0;31mKeyboardInterrupt\u001b[0m                         Traceback (most recent call last)",
      "\u001b[0;32m/var/folders/1c/pxqhxbx546lgclnzm_sf5v2m0000gn/T/ipykernel_96035/1195025135.py\u001b[0m in \u001b[0;36m<module>\u001b[0;34m\u001b[0m\n\u001b[1;32m      7\u001b[0m \u001b[0mtanka_save_dir\u001b[0m \u001b[0;34m=\u001b[0m \u001b[0;34m\"tanka_count_id\"\u001b[0m\u001b[0;34m\u001b[0m\u001b[0;34m\u001b[0m\u001b[0m\n\u001b[1;32m      8\u001b[0m \u001b[0msave_dir\u001b[0m \u001b[0;34m=\u001b[0m \u001b[0;34m\"save_dir\"\u001b[0m\u001b[0;34m\u001b[0m\u001b[0;34m\u001b[0m\u001b[0m\n\u001b[0;32m----> 9\u001b[0;31m \u001b[0msave_df\u001b[0m\u001b[0;34m(\u001b[0m\u001b[0mwaka\u001b[0m\u001b[0;34m,\u001b[0m\u001b[0mn\u001b[0m\u001b[0;34m,\u001b[0m\u001b[0mwaka_save_dir\u001b[0m\u001b[0;34m,\u001b[0m\u001b[0mwaka_count_id_path\u001b[0m\u001b[0;34m,\u001b[0m\u001b[0mwaka_or_tanka\u001b[0m\u001b[0;34m=\u001b[0m\u001b[0;34m\"waka\"\u001b[0m\u001b[0;34m,\u001b[0m\u001b[0mtext_num\u001b[0m\u001b[0;34m=\u001b[0m\u001b[0;36m100\u001b[0m\u001b[0;34m)\u001b[0m\u001b[0;34m\u001b[0m\u001b[0;34m\u001b[0m\u001b[0m\n\u001b[0m\u001b[1;32m     10\u001b[0m \u001b[0msave_df\u001b[0m\u001b[0;34m(\u001b[0m\u001b[0mtanka\u001b[0m\u001b[0;34m,\u001b[0m\u001b[0mn\u001b[0m\u001b[0;34m,\u001b[0m\u001b[0mtanka_save_dir\u001b[0m\u001b[0;34m,\u001b[0m\u001b[0mtanka_count_id_path\u001b[0m\u001b[0;34m,\u001b[0m\u001b[0mwaka_or_tanka\u001b[0m\u001b[0;34m=\u001b[0m\u001b[0;34m\"tanka\"\u001b[0m\u001b[0;34m,\u001b[0m\u001b[0mtext_num\u001b[0m\u001b[0;34m=\u001b[0m\u001b[0;36m100\u001b[0m\u001b[0;34m)\u001b[0m\u001b[0;34m\u001b[0m\u001b[0;34m\u001b[0m\u001b[0m\n\u001b[1;32m     11\u001b[0m \u001b[0;34m\u001b[0m\u001b[0m\n",
      "\u001b[0;32m/var/folders/1c/pxqhxbx546lgclnzm_sf5v2m0000gn/T/ipykernel_96035/1444708236.py\u001b[0m in \u001b[0;36msave_df\u001b[0;34m(data_df, n, save_dir, save_file, waka_or_tanka, text_num)\u001b[0m\n\u001b[1;32m    104\u001b[0m             \u001b[0mvector_id_df\u001b[0m\u001b[0;34m.\u001b[0m\u001b[0mto_pickle\u001b[0m\u001b[0;34m(\u001b[0m\u001b[0;34mf\"{waka_or_tanka}_vector_id_df.pkl\"\u001b[0m\u001b[0;34m)\u001b[0m\u001b[0;34m\u001b[0m\u001b[0;34m\u001b[0m\u001b[0m\n\u001b[1;32m    105\u001b[0m         \u001b[0;32melse\u001b[0m\u001b[0;34m:\u001b[0m\u001b[0;34m\u001b[0m\u001b[0;34m\u001b[0m\u001b[0m\n\u001b[0;32m--> 106\u001b[0;31m             \u001b[0mid_df\u001b[0m \u001b[0;34m=\u001b[0m \u001b[0mcount_id\u001b[0m\u001b[0;34m(\u001b[0m\u001b[0mvector_id_df\u001b[0m\u001b[0;34m,\u001b[0m\u001b[0mvec_id_dic\u001b[0m\u001b[0;34m,\u001b[0m\u001b[0mstart_point\u001b[0m\u001b[0;34m=\u001b[0m\u001b[0msp\u001b[0m\u001b[0;34m,\u001b[0m\u001b[0mtext_num\u001b[0m\u001b[0;34m=\u001b[0m\u001b[0mtext_num\u001b[0m\u001b[0;34m)\u001b[0m\u001b[0;34m\u001b[0m\u001b[0;34m\u001b[0m\u001b[0m\n\u001b[0m\u001b[1;32m    107\u001b[0m         \u001b[0mid_df\u001b[0m\u001b[0;34m.\u001b[0m\u001b[0mto_pickle\u001b[0m\u001b[0;34m(\u001b[0m\u001b[0msave_path\u001b[0m\u001b[0;34m)\u001b[0m\u001b[0;34m\u001b[0m\u001b[0;34m\u001b[0m\u001b[0m\n\u001b[1;32m    108\u001b[0m \u001b[0;34m\u001b[0m\u001b[0m\n",
      "\u001b[0;32m/var/folders/1c/pxqhxbx546lgclnzm_sf5v2m0000gn/T/ipykernel_96035/1444708236.py\u001b[0m in \u001b[0;36mcount_id\u001b[0;34m(df, dic, start_point, text_num)\u001b[0m\n\u001b[1;32m     90\u001b[0m         \u001b[0mid_df\u001b[0m\u001b[0;34m.\u001b[0m\u001b[0mloc\u001b[0m\u001b[0;34m[\u001b[0m\u001b[0mi\u001b[0m\u001b[0;34m]\u001b[0m \u001b[0;34m=\u001b[0m \u001b[0mnp\u001b[0m\u001b[0;34m.\u001b[0m\u001b[0mzeros\u001b[0m\u001b[0;34m(\u001b[0m\u001b[0mwidth\u001b[0m\u001b[0;34m,\u001b[0m\u001b[0mdtype\u001b[0m\u001b[0;34m=\u001b[0m\u001b[0mint\u001b[0m\u001b[0;34m)\u001b[0m\u001b[0;34m\u001b[0m\u001b[0;34m\u001b[0m\u001b[0m\n\u001b[1;32m     91\u001b[0m         \u001b[0;32mfor\u001b[0m \u001b[0mid\u001b[0m \u001b[0;32min\u001b[0m \u001b[0mid_list\u001b[0m\u001b[0;34m:\u001b[0m\u001b[0;34m\u001b[0m\u001b[0;34m\u001b[0m\u001b[0m\n\u001b[0;32m---> 92\u001b[0;31m             \u001b[0mid_df\u001b[0m\u001b[0;34m.\u001b[0m\u001b[0mloc\u001b[0m\u001b[0;34m[\u001b[0m\u001b[0mi\u001b[0m\u001b[0;34m,\u001b[0m\u001b[0mdic\u001b[0m\u001b[0;34m[\u001b[0m\u001b[0;34m\"word\"\u001b[0m\u001b[0;34m]\u001b[0m\u001b[0;34m[\u001b[0m\u001b[0mid\u001b[0m\u001b[0;34m]\u001b[0m\u001b[0;34m]\u001b[0m \u001b[0;34m+=\u001b[0m \u001b[0;36m1\u001b[0m\u001b[0;34m\u001b[0m\u001b[0;34m\u001b[0m\u001b[0m\n\u001b[0m\u001b[1;32m     93\u001b[0m         \u001b[0mi\u001b[0m \u001b[0;34m+=\u001b[0m \u001b[0;36m1\u001b[0m\u001b[0;34m\u001b[0m\u001b[0;34m\u001b[0m\u001b[0m\n\u001b[1;32m     94\u001b[0m         \u001b[0;32mif\u001b[0m \u001b[0mi\u001b[0m\u001b[0;34m==\u001b[0m\u001b[0mend_point\u001b[0m\u001b[0;34m:\u001b[0m\u001b[0;34m\u001b[0m\u001b[0;34m\u001b[0m\u001b[0m\n",
      "\u001b[0;32m/opt/anaconda3/envs/kaggle_env/lib/python3.8/site-packages/pandas/core/indexing.py\u001b[0m in \u001b[0;36m__getitem__\u001b[0;34m(self, key)\u001b[0m\n\u001b[1;32m    886\u001b[0m                 \u001b[0;32mwith\u001b[0m \u001b[0msuppress\u001b[0m\u001b[0;34m(\u001b[0m\u001b[0mKeyError\u001b[0m\u001b[0;34m,\u001b[0m \u001b[0mIndexError\u001b[0m\u001b[0;34m,\u001b[0m \u001b[0mAttributeError\u001b[0m\u001b[0;34m)\u001b[0m\u001b[0;34m:\u001b[0m\u001b[0;34m\u001b[0m\u001b[0;34m\u001b[0m\u001b[0m\n\u001b[1;32m    887\u001b[0m                     \u001b[0;31m# AttributeError for IntervalTree get_value\u001b[0m\u001b[0;34m\u001b[0m\u001b[0;34m\u001b[0m\u001b[0;34m\u001b[0m\u001b[0m\n\u001b[0;32m--> 888\u001b[0;31m                     \u001b[0;32mreturn\u001b[0m \u001b[0mself\u001b[0m\u001b[0;34m.\u001b[0m\u001b[0mobj\u001b[0m\u001b[0;34m.\u001b[0m\u001b[0m_get_value\u001b[0m\u001b[0;34m(\u001b[0m\u001b[0;34m*\u001b[0m\u001b[0mkey\u001b[0m\u001b[0;34m,\u001b[0m \u001b[0mtakeable\u001b[0m\u001b[0;34m=\u001b[0m\u001b[0mself\u001b[0m\u001b[0;34m.\u001b[0m\u001b[0m_takeable\u001b[0m\u001b[0;34m)\u001b[0m\u001b[0;34m\u001b[0m\u001b[0;34m\u001b[0m\u001b[0m\n\u001b[0m\u001b[1;32m    889\u001b[0m             \u001b[0;32mreturn\u001b[0m \u001b[0mself\u001b[0m\u001b[0;34m.\u001b[0m\u001b[0m_getitem_tuple\u001b[0m\u001b[0;34m(\u001b[0m\u001b[0mkey\u001b[0m\u001b[0;34m)\u001b[0m\u001b[0;34m\u001b[0m\u001b[0;34m\u001b[0m\u001b[0m\n\u001b[1;32m    890\u001b[0m         \u001b[0;32melse\u001b[0m\u001b[0;34m:\u001b[0m\u001b[0;34m\u001b[0m\u001b[0;34m\u001b[0m\u001b[0m\n",
      "\u001b[0;32m/opt/anaconda3/envs/kaggle_env/lib/python3.8/site-packages/pandas/core/frame.py\u001b[0m in \u001b[0;36m_get_value\u001b[0;34m(self, index, col, takeable)\u001b[0m\n\u001b[1;32m   3127\u001b[0m             \u001b[0;32mreturn\u001b[0m \u001b[0mseries\u001b[0m\u001b[0;34m.\u001b[0m\u001b[0m_values\u001b[0m\u001b[0;34m[\u001b[0m\u001b[0mindex\u001b[0m\u001b[0;34m]\u001b[0m\u001b[0;34m\u001b[0m\u001b[0;34m\u001b[0m\u001b[0m\n\u001b[1;32m   3128\u001b[0m \u001b[0;34m\u001b[0m\u001b[0m\n\u001b[0;32m-> 3129\u001b[0;31m         \u001b[0mseries\u001b[0m \u001b[0;34m=\u001b[0m \u001b[0mself\u001b[0m\u001b[0;34m.\u001b[0m\u001b[0m_get_item_cache\u001b[0m\u001b[0;34m(\u001b[0m\u001b[0mcol\u001b[0m\u001b[0;34m)\u001b[0m\u001b[0;34m\u001b[0m\u001b[0;34m\u001b[0m\u001b[0m\n\u001b[0m\u001b[1;32m   3130\u001b[0m         \u001b[0mengine\u001b[0m \u001b[0;34m=\u001b[0m \u001b[0mself\u001b[0m\u001b[0;34m.\u001b[0m\u001b[0mindex\u001b[0m\u001b[0;34m.\u001b[0m\u001b[0m_engine\u001b[0m\u001b[0;34m\u001b[0m\u001b[0;34m\u001b[0m\u001b[0m\n\u001b[1;32m   3131\u001b[0m \u001b[0;34m\u001b[0m\u001b[0m\n",
      "\u001b[0;32m/opt/anaconda3/envs/kaggle_env/lib/python3.8/site-packages/pandas/core/generic.py\u001b[0m in \u001b[0;36m_get_item_cache\u001b[0;34m(self, item)\u001b[0m\n\u001b[1;32m   3791\u001b[0m \u001b[0;34m\u001b[0m\u001b[0m\n\u001b[1;32m   3792\u001b[0m             \u001b[0mloc\u001b[0m \u001b[0;34m=\u001b[0m \u001b[0mself\u001b[0m\u001b[0;34m.\u001b[0m\u001b[0mcolumns\u001b[0m\u001b[0;34m.\u001b[0m\u001b[0mget_loc\u001b[0m\u001b[0;34m(\u001b[0m\u001b[0mitem\u001b[0m\u001b[0;34m)\u001b[0m\u001b[0;34m\u001b[0m\u001b[0;34m\u001b[0m\u001b[0m\n\u001b[0;32m-> 3793\u001b[0;31m             \u001b[0mvalues\u001b[0m \u001b[0;34m=\u001b[0m \u001b[0mself\u001b[0m\u001b[0;34m.\u001b[0m\u001b[0m_mgr\u001b[0m\u001b[0;34m.\u001b[0m\u001b[0miget\u001b[0m\u001b[0;34m(\u001b[0m\u001b[0mloc\u001b[0m\u001b[0;34m)\u001b[0m\u001b[0;34m\u001b[0m\u001b[0;34m\u001b[0m\u001b[0m\n\u001b[0m\u001b[1;32m   3794\u001b[0m             \u001b[0mres\u001b[0m \u001b[0;34m=\u001b[0m \u001b[0mself\u001b[0m\u001b[0;34m.\u001b[0m\u001b[0m_box_col_values\u001b[0m\u001b[0;34m(\u001b[0m\u001b[0mvalues\u001b[0m\u001b[0;34m,\u001b[0m \u001b[0mloc\u001b[0m\u001b[0;34m)\u001b[0m\u001b[0;34m.\u001b[0m\u001b[0m__finalize__\u001b[0m\u001b[0;34m(\u001b[0m\u001b[0mself\u001b[0m\u001b[0;34m)\u001b[0m\u001b[0;34m\u001b[0m\u001b[0;34m\u001b[0m\u001b[0m\n\u001b[1;32m   3795\u001b[0m \u001b[0;34m\u001b[0m\u001b[0m\n",
      "\u001b[0;32m/opt/anaconda3/envs/kaggle_env/lib/python3.8/site-packages/pandas/core/internals/managers.py\u001b[0m in \u001b[0;36miget\u001b[0;34m(self, i)\u001b[0m\n\u001b[1;32m   1000\u001b[0m         \u001b[0mReturn\u001b[0m \u001b[0mthe\u001b[0m \u001b[0mdata\u001b[0m \u001b[0;32mas\u001b[0m \u001b[0ma\u001b[0m \u001b[0mSingleBlockManager\u001b[0m\u001b[0;34m.\u001b[0m\u001b[0;34m\u001b[0m\u001b[0;34m\u001b[0m\u001b[0m\n\u001b[1;32m   1001\u001b[0m         \"\"\"\n\u001b[0;32m-> 1002\u001b[0;31m         \u001b[0mblock\u001b[0m \u001b[0;34m=\u001b[0m \u001b[0mself\u001b[0m\u001b[0;34m.\u001b[0m\u001b[0mblocks\u001b[0m\u001b[0;34m[\u001b[0m\u001b[0mself\u001b[0m\u001b[0;34m.\u001b[0m\u001b[0mblknos\u001b[0m\u001b[0;34m[\u001b[0m\u001b[0mi\u001b[0m\u001b[0;34m]\u001b[0m\u001b[0;34m]\u001b[0m\u001b[0;34m\u001b[0m\u001b[0;34m\u001b[0m\u001b[0m\n\u001b[0m\u001b[1;32m   1003\u001b[0m         \u001b[0mvalues\u001b[0m \u001b[0;34m=\u001b[0m \u001b[0mblock\u001b[0m\u001b[0;34m.\u001b[0m\u001b[0miget\u001b[0m\u001b[0;34m(\u001b[0m\u001b[0mself\u001b[0m\u001b[0;34m.\u001b[0m\u001b[0mblklocs\u001b[0m\u001b[0;34m[\u001b[0m\u001b[0mi\u001b[0m\u001b[0;34m]\u001b[0m\u001b[0;34m)\u001b[0m\u001b[0;34m\u001b[0m\u001b[0;34m\u001b[0m\u001b[0m\n\u001b[1;32m   1004\u001b[0m \u001b[0;34m\u001b[0m\u001b[0m\n",
      "\u001b[0;32m/opt/anaconda3/envs/kaggle_env/lib/python3.8/site-packages/pandas/core/internals/managers.py\u001b[0m in \u001b[0;36mblknos\u001b[0;34m(self)\u001b[0m\n\u001b[1;32m    167\u001b[0m         \u001b[0;32mif\u001b[0m \u001b[0mself\u001b[0m\u001b[0;34m.\u001b[0m\u001b[0m_blknos\u001b[0m \u001b[0;32mis\u001b[0m \u001b[0;32mNone\u001b[0m\u001b[0;34m:\u001b[0m\u001b[0;34m\u001b[0m\u001b[0;34m\u001b[0m\u001b[0m\n\u001b[1;32m    168\u001b[0m             \u001b[0;31m# Note: these can be altered by other BlockManager methods.\u001b[0m\u001b[0;34m\u001b[0m\u001b[0;34m\u001b[0m\u001b[0;34m\u001b[0m\u001b[0m\n\u001b[0;32m--> 169\u001b[0;31m             \u001b[0mself\u001b[0m\u001b[0;34m.\u001b[0m\u001b[0m_rebuild_blknos_and_blklocs\u001b[0m\u001b[0;34m(\u001b[0m\u001b[0;34m)\u001b[0m\u001b[0;34m\u001b[0m\u001b[0;34m\u001b[0m\u001b[0m\n\u001b[0m\u001b[1;32m    170\u001b[0m \u001b[0;34m\u001b[0m\u001b[0m\n\u001b[1;32m    171\u001b[0m         \u001b[0;32mreturn\u001b[0m \u001b[0mself\u001b[0m\u001b[0;34m.\u001b[0m\u001b[0m_blknos\u001b[0m\u001b[0;34m\u001b[0m\u001b[0;34m\u001b[0m\u001b[0m\n",
      "\u001b[0;32m/opt/anaconda3/envs/kaggle_env/lib/python3.8/site-packages/pandas/core/internals/managers.py\u001b[0m in \u001b[0;36m_rebuild_blknos_and_blklocs\u001b[0;34m(self)\u001b[0m\n\u001b[1;32m    242\u001b[0m             \u001b[0mrl\u001b[0m \u001b[0;34m=\u001b[0m \u001b[0mblk\u001b[0m\u001b[0;34m.\u001b[0m\u001b[0mmgr_locs\u001b[0m\u001b[0;34m\u001b[0m\u001b[0;34m\u001b[0m\u001b[0m\n\u001b[1;32m    243\u001b[0m             \u001b[0mnew_blknos\u001b[0m\u001b[0;34m[\u001b[0m\u001b[0mrl\u001b[0m\u001b[0;34m.\u001b[0m\u001b[0mindexer\u001b[0m\u001b[0;34m]\u001b[0m \u001b[0;34m=\u001b[0m \u001b[0mblkno\u001b[0m\u001b[0;34m\u001b[0m\u001b[0;34m\u001b[0m\u001b[0m\n\u001b[0;32m--> 244\u001b[0;31m             \u001b[0mnew_blklocs\u001b[0m\u001b[0;34m[\u001b[0m\u001b[0mrl\u001b[0m\u001b[0;34m.\u001b[0m\u001b[0mindexer\u001b[0m\u001b[0;34m]\u001b[0m \u001b[0;34m=\u001b[0m \u001b[0mnp\u001b[0m\u001b[0;34m.\u001b[0m\u001b[0marange\u001b[0m\u001b[0;34m(\u001b[0m\u001b[0mlen\u001b[0m\u001b[0;34m(\u001b[0m\u001b[0mrl\u001b[0m\u001b[0;34m)\u001b[0m\u001b[0;34m)\u001b[0m\u001b[0;34m\u001b[0m\u001b[0;34m\u001b[0m\u001b[0m\n\u001b[0m\u001b[1;32m    245\u001b[0m \u001b[0;34m\u001b[0m\u001b[0m\n\u001b[1;32m    246\u001b[0m         \u001b[0;32mif\u001b[0m \u001b[0;34m(\u001b[0m\u001b[0mnew_blknos\u001b[0m \u001b[0;34m==\u001b[0m \u001b[0;34m-\u001b[0m\u001b[0;36m1\u001b[0m\u001b[0;34m)\u001b[0m\u001b[0;34m.\u001b[0m\u001b[0many\u001b[0m\u001b[0;34m(\u001b[0m\u001b[0;34m)\u001b[0m\u001b[0;34m:\u001b[0m\u001b[0;34m\u001b[0m\u001b[0;34m\u001b[0m\u001b[0m\n",
      "\u001b[0;31mKeyboardInterrupt\u001b[0m: "
     ]
    }
   ],
   "source": [
    "\"\"\"n = 3\n",
    "waka_vec_id_path = f\"{n}_gram_waka_vector_id.pkl\"    \n",
    "tanka_vec_id_path = f\"{n}_gram_tanka_vector_id.pkl\"\n",
    "waka_count_id_path = f\"{n}_gram_waka_count_id.pkl\"\n",
    "tanka_count_id_path = f\"{n}_gram_tanka_count_id.pkl\"\n",
    "waka_save_dir = \"waka_count_id\"\n",
    "tanka_save_dir = \"tanka_count_id\"\n",
    "save_dir = \"save_dir\"\n",
    "save_df(waka,n,waka_save_dir,waka_count_id_path,waka_or_tanka=\"waka\",text_num=1000)\n",
    "save_df(tanka,n,tanka_save_dir,tanka_count_id_path,waka_or_tanka=\"tanka\",text_num=1000)\n",
    "\n",
    "concat_df(waka_save_dir,save_dir,waka_count_id_path)\n",
    "concat_df(tanka_save_dir,save_dir,tanka_count_id_path)\"\"\"\n",
    "    \n",
    "    "
   ]
  },
  {
   "cell_type": "code",
   "execution_count": 204,
   "metadata": {},
   "outputs": [
    {
     "name": "stdout",
     "output_type": "stream",
     "text": [
      "      あかか かから からは みるへ るへき へきも きもの ものを かりか りかね  ... しかむ やすひ りにふ らます やすめ すめし  \\\n",
      "0       0   0   0   0   0   0   0   0   0   0  ...   0   0   0   0   0   0   \n",
      "1       0   0   0   0   0   0   0   0   0   0  ...   0   0   0   0   0   0   \n",
      "2       0   0   0   0   0   0   0   0   0   0  ...   0   0   0   0   0   0   \n",
      "3       0   0   0   0   0   0   0   0   0   0  ...   0   0   0   0   0   0   \n",
      "4       0   0   0   0   0   0   0   0   0   0  ...   0   0   0   0   0   0   \n",
      "...    ..  ..  ..  ..  ..  ..  ..  ..  ..  ..  ...  ..  ..  ..  ..  ..  ..   \n",
      "14287   0   0   0   0   0   0   0   0   0   0  ...   0   0   0   0   0   0   \n",
      "14288   0   0   1   0   0   0   0   1   0   0  ...   0   0   0   0   0   0   \n",
      "14289   0   0   0   0   0   0   0   0   0   0  ...   0   0   0   0   0   0   \n",
      "14290   0   0   0   0   0   0   0   0   0   0  ...   0   0   0   0   0   0   \n",
      "14291   0   0   0   0   0   0   0   0   0   0  ...   0   0   0   0   0   0   \n",
      "\n",
      "      くれい れいま はれあ めなの  \n",
      "0       0   0   0   0  \n",
      "1       0   0   0   0  \n",
      "2       0   0   0   0  \n",
      "3       0   0   0   0  \n",
      "4       0   0   0   0  \n",
      "...    ..  ..  ..  ..  \n",
      "14287   0   0   0   0  \n",
      "14288   0   0   0   0  \n",
      "14289   0   0   0   0  \n",
      "14290   0   0   0   0  \n",
      "14291   0   0   0   0  \n",
      "\n",
      "[14292 rows x 28012 columns]\n"
     ]
    }
   ],
   "source": [
    "with open(\"save_dir/3_gram_waka_count_id.pkl\", mode=\"rb\") as f:\n",
    "    df = pickle.load(f)\n",
    "print(df)"
   ]
  },
  {
   "cell_type": "code",
   "execution_count": null,
   "metadata": {},
   "outputs": [],
   "source": []
  }
 ],
 "metadata": {
  "kernelspec": {
   "display_name": "Python 3.8.10 ('kaggle_env')",
   "language": "python",
   "name": "python3"
  },
  "language_info": {
   "codemirror_mode": {
    "name": "ipython",
    "version": 3
   },
   "file_extension": ".py",
   "mimetype": "text/x-python",
   "name": "python",
   "nbconvert_exporter": "python",
   "pygments_lexer": "ipython3",
   "version": "3.8.10"
  },
  "orig_nbformat": 4,
  "vscode": {
   "interpreter": {
    "hash": "84bf7c439daa01440c423abe4b4b5ca63a847d1d90d0d19a84c063ae585be2da"
   }
  }
 },
 "nbformat": 4,
 "nbformat_minor": 2
}
