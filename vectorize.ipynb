{
 "cells": [
  {
   "cell_type": "markdown",
   "metadata": {},
   "source": [
    "# 動作確認用のファイル"
   ]
  },
  {
   "cell_type": "code",
   "execution_count": 99,
   "metadata": {},
   "outputs": [],
   "source": [
    "import pandas as pd\n",
    "import math"
   ]
  },
  {
   "cell_type": "code",
   "execution_count": 2,
   "metadata": {},
   "outputs": [],
   "source": [
    "tanka = pd.read_csv(\"kindai.csv\",header=None)\n",
    "waka = pd.read_csv(\"waka_half.csv\",header=None)"
   ]
  },
  {
   "cell_type": "code",
   "execution_count": 3,
   "metadata": {},
   "outputs": [
    {
     "name": "stdout",
     "output_type": "stream",
     "text": [
      "<class 'pandas.core.frame.DataFrame'>\n",
      "RangeIndex: 13963 entries, 0 to 13962\n",
      "Data columns (total 1 columns):\n",
      " #   Column  Non-Null Count  Dtype \n",
      "---  ------  --------------  ----- \n",
      " 0   0       13963 non-null  object\n",
      "dtypes: object(1)\n",
      "memory usage: 109.2+ KB\n",
      "None\n",
      "                                     0\n",
      "0  あああらき なげきやながき くろかみも ひとときにして あせやしぬべし\n",
      "1  あああらき なげきやなんじ れはかりは てんもうごけと なくにもにたる\n",
      "2  ああきみは いたましきまで ようちなる なさけにゑひぬ かなしからずや\n",
      "3  ああきみは かたるにたらず よわきじん よわきこいをば もてあそぶかな\n",
      "4  ああきみは すむむねもなき さびしさを かたるかなみだ かわきしめもて\n"
     ]
    }
   ],
   "source": [
    "print(tanka.info())\n",
    "print(tanka.head())"
   ]
  },
  {
   "cell_type": "code",
   "execution_count": 4,
   "metadata": {},
   "outputs": [
    {
     "name": "stdout",
     "output_type": "stream",
     "text": [
      "<class 'pandas.core.frame.DataFrame'>\n",
      "RangeIndex: 14292 entries, 0 to 14291\n",
      "Data columns (total 1 columns):\n",
      " #   Column  Non-Null Count  Dtype \n",
      "---  ------  --------------  ----- \n",
      " 0   0       14292 non-null  object\n",
      "dtypes: object(1)\n",
      "memory usage: 111.8+ KB\n",
      "None\n",
      "                                     0\n",
      "0  あかからは みるへきものを かりかねの いつこはかりに なきてゆくらむ\n",
      "1  あかさりし おもかけはかり うつしても ちきりはさてや やまのゐのみつ\n",
      "2  あかさりし きみかにほひの こひしさに うめのはなをそ けさはをりつる\n",
      "3  あかさりし そてかとにほふ うめかかに おもひなくさむ あかつきのそら\n",
      "4  あかさりし そてのわかれの なみたより かたみかほなる つきそみにそふ\n"
     ]
    }
   ],
   "source": [
    "print(waka.info())\n",
    "print(waka.head())"
   ]
  },
  {
   "cell_type": "code",
   "execution_count": 145,
   "metadata": {},
   "outputs": [],
   "source": [
    "def vectorize_df(df,n=3):\n",
    "    list_df = df.apply(split_text,axis=1)\n",
    "    tri_gram_df = list_df.apply(n_gram,n=n)\n",
    "    vec_id_dic = calc_vector(tri_gram_df)\n",
    "    out_df = convert_to_vector(tri_gram_df,vec_id_dic)\n",
    "    return out_df\n",
    "\n",
    "def split_text(text_record):\n",
    "    return text_record.loc[0].split(\" \")\n",
    "\n",
    "def n_gram(text_list,n):\n",
    "    ans = []\n",
    "    for text in text_list:\n",
    "        gram = []\n",
    "        for i in range(len(text)-(n-1)):\n",
    "            gram.append(text[i:i+n])\n",
    "        ans.extend(gram)\n",
    "    return ans\n",
    "\n",
    "def calc_vector(gram_df):\n",
    "    vector = {}\n",
    "    vector[\"vector\"] = {}\n",
    "    vector[\"id\"] = {}\n",
    "    r2 = 0\n",
    "    id = 0\n",
    "    for line in gram_df:\n",
    "        for word in line:\n",
    "            if word in vector[\"vector\"].keys():\n",
    "                vector[\"vector\"][word] += 1\n",
    "            else:\n",
    "                vector[\"vector\"][word] = 1\n",
    "                vector[\"id\"][word] = id\n",
    "            id += 1\n",
    "\n",
    "    for key in vector[\"vector\"].keys():\n",
    "        r2 += vector[\"vector\"][key]**2\n",
    "\n",
    "    r = math.sqrt(r2)\n",
    "    for key in vector[\"vector\"].keys():\n",
    "        vector[\"vector\"][key] /= r\n",
    "\n",
    "    return vector\n",
    "\n",
    "def convert_to_vector(df,dic):\n",
    "    out_vec_list = []\n",
    "    out_id_list = []\n",
    "    out_df = pd.DataFrame()\n",
    "    for i in range(df.shape[0]):\n",
    "        vec_list = []\n",
    "        id_list = []\n",
    "        word_list = df.loc[i]\n",
    "        for word in word_list:\n",
    "            vec_list.append(dic[\"vector\"][word])\n",
    "            id_list.append(dic[\"id\"][word])\n",
    "        out_vec_list.append(vec_list)\n",
    "        out_id_list.append(id_list)\n",
    "    out_df[\"vector\"] = out_vec_list\n",
    "    out_df[\"id\"] = out_id_list\n",
    "    return out_df\n"
   ]
  },
  {
   "cell_type": "code",
   "execution_count": 146,
   "metadata": {},
   "outputs": [],
   "source": [
    "waka_vector_id = vectorize_df(waka,n=1)\n",
    "tanka_vector_id = vectorize_df(tanka)"
   ]
  },
  {
   "cell_type": "code",
   "execution_count": 147,
   "metadata": {},
   "outputs": [],
   "source": [
    "waka_path = \"waka_vector.csv\"\n",
    "tanka_path = \"tanka_vector.csv\"\n",
    "\n",
    "waka_vector_id.to_csv(waka_path,index=False)\n",
    "tanka_vector_id.to_csv(tanka_path,index=False)"
   ]
  },
  {
   "cell_type": "code",
   "execution_count": 148,
   "metadata": {},
   "outputs": [
    {
     "data": {
      "text/html": [
       "<div>\n",
       "<style scoped>\n",
       "    .dataframe tbody tr th:only-of-type {\n",
       "        vertical-align: middle;\n",
       "    }\n",
       "\n",
       "    .dataframe tbody tr th {\n",
       "        vertical-align: top;\n",
       "    }\n",
       "\n",
       "    .dataframe thead th {\n",
       "        text-align: right;\n",
       "    }\n",
       "</style>\n",
       "<table border=\"1\" class=\"dataframe\">\n",
       "  <thead>\n",
       "    <tr style=\"text-align: right;\">\n",
       "      <th></th>\n",
       "      <th>vector</th>\n",
       "      <th>id</th>\n",
       "    </tr>\n",
       "  </thead>\n",
       "  <tbody>\n",
       "    <tr>\n",
       "      <th>0</th>\n",
       "      <td>[0.10288089429287038, 0.34179304836124225, 0.3...</td>\n",
       "      <td>[0, 1, 1, 3, 4, 5, 6, 7, 8, 9, 10, 11, 1, 13, ...</td>\n",
       "    </tr>\n",
       "    <tr>\n",
       "      <th>1</th>\n",
       "      <td>[0.10288089429287038, 0.34179304836124225, 0.1...</td>\n",
       "      <td>[0, 1, 33, 13, 35, 36, 9, 1, 39, 4, 1, 13, 43,...</td>\n",
       "    </tr>\n",
       "    <tr>\n",
       "      <th>2</th>\n",
       "      <td>[0.10288089429287038, 0.34179304836124225, 0.1...</td>\n",
       "      <td>[0, 1, 33, 13, 35, 8, 5, 1, 23, 71, 72, 10, 19...</td>\n",
       "    </tr>\n",
       "    <tr>\n",
       "      <th>3</th>\n",
       "      <td>[0.10288089429287038, 0.34179304836124225, 0.1...</td>\n",
       "      <td>[0, 1, 33, 13, 35, 85, 26, 1, 101, 23, 71, 104...</td>\n",
       "    </tr>\n",
       "    <tr>\n",
       "      <th>4</th>\n",
       "      <td>[0.10288089429287038, 0.34179304836124225, 0.1...</td>\n",
       "      <td>[0, 1, 33, 13, 35, 85, 26, 10, 132, 1, 134, 10...</td>\n",
       "    </tr>\n",
       "    <tr>\n",
       "      <th>...</th>\n",
       "      <td>...</td>\n",
       "      <td>...</td>\n",
       "    </tr>\n",
       "    <tr>\n",
       "      <th>14287</th>\n",
       "      <td>[0.09517362993400533, 0.17505010065828358, 0.0...</td>\n",
       "      <td>[11, 6, 85, 26, 23, 23, 71, 72, 4, 101, 56, 6,...</td>\n",
       "    </tr>\n",
       "    <tr>\n",
       "      <th>14288</th>\n",
       "      <td>[0.09517362993400533, 0.17505010065828358, 0.0...</td>\n",
       "      <td>[11, 6, 85, 26, 9, 17, 170, 85, 43, 18, 170, 1...</td>\n",
       "    </tr>\n",
       "    <tr>\n",
       "      <th>14289</th>\n",
       "      <td>[0.09517362993400533, 0.17505010065828358, 0.1...</td>\n",
       "      <td>[11, 6, 72, 101, 10, 85, 134, 24, 6, 1, 3, 23,...</td>\n",
       "    </tr>\n",
       "    <tr>\n",
       "      <th>14290</th>\n",
       "      <td>[0.09517362993400533, 0.17505010065828358, 0.1...</td>\n",
       "      <td>[11, 6, 72, 101, 9, 24, 8, 104, 6, 33, 101, 10...</td>\n",
       "    </tr>\n",
       "    <tr>\n",
       "      <th>14291</th>\n",
       "      <td>[0.09517362993400533, 0.09517362993400533, 0.0...</td>\n",
       "      <td>[11, 11, 139, 132, 5, 138, 478, 26, 5, 138, 6,...</td>\n",
       "    </tr>\n",
       "  </tbody>\n",
       "</table>\n",
       "<p>14292 rows × 2 columns</p>\n",
       "</div>"
      ],
      "text/plain": [
       "                                                  vector  \\\n",
       "0      [0.10288089429287038, 0.34179304836124225, 0.3...   \n",
       "1      [0.10288089429287038, 0.34179304836124225, 0.1...   \n",
       "2      [0.10288089429287038, 0.34179304836124225, 0.1...   \n",
       "3      [0.10288089429287038, 0.34179304836124225, 0.1...   \n",
       "4      [0.10288089429287038, 0.34179304836124225, 0.1...   \n",
       "...                                                  ...   \n",
       "14287  [0.09517362993400533, 0.17505010065828358, 0.0...   \n",
       "14288  [0.09517362993400533, 0.17505010065828358, 0.0...   \n",
       "14289  [0.09517362993400533, 0.17505010065828358, 0.1...   \n",
       "14290  [0.09517362993400533, 0.17505010065828358, 0.1...   \n",
       "14291  [0.09517362993400533, 0.09517362993400533, 0.0...   \n",
       "\n",
       "                                                      id  \n",
       "0      [0, 1, 1, 3, 4, 5, 6, 7, 8, 9, 10, 11, 1, 13, ...  \n",
       "1      [0, 1, 33, 13, 35, 36, 9, 1, 39, 4, 1, 13, 43,...  \n",
       "2      [0, 1, 33, 13, 35, 8, 5, 1, 23, 71, 72, 10, 19...  \n",
       "3      [0, 1, 33, 13, 35, 85, 26, 1, 101, 23, 71, 104...  \n",
       "4      [0, 1, 33, 13, 35, 85, 26, 10, 132, 1, 134, 10...  \n",
       "...                                                  ...  \n",
       "14287  [11, 6, 85, 26, 23, 23, 71, 72, 4, 101, 56, 6,...  \n",
       "14288  [11, 6, 85, 26, 9, 17, 170, 85, 43, 18, 170, 1...  \n",
       "14289  [11, 6, 72, 101, 10, 85, 134, 24, 6, 1, 3, 23,...  \n",
       "14290  [11, 6, 72, 101, 9, 24, 8, 104, 6, 33, 101, 10...  \n",
       "14291  [11, 11, 139, 132, 5, 138, 478, 26, 5, 138, 6,...  \n",
       "\n",
       "[14292 rows x 2 columns]"
      ]
     },
     "execution_count": 148,
     "metadata": {},
     "output_type": "execute_result"
    }
   ],
   "source": [
    "pd.read_csv(waka_path)"
   ]
  },
  {
   "cell_type": "code",
   "execution_count": null,
   "metadata": {},
   "outputs": [],
   "source": []
  }
 ],
 "metadata": {
  "kernelspec": {
   "display_name": "Python 3.8.10 ('kaggle_env')",
   "language": "python",
   "name": "python3"
  },
  "language_info": {
   "codemirror_mode": {
    "name": "ipython",
    "version": 3
   },
   "file_extension": ".py",
   "mimetype": "text/x-python",
   "name": "python",
   "nbconvert_exporter": "python",
   "pygments_lexer": "ipython3",
   "version": "3.8.10"
  },
  "orig_nbformat": 4,
  "vscode": {
   "interpreter": {
    "hash": "84bf7c439daa01440c423abe4b4b5ca63a847d1d90d0d19a84c063ae585be2da"
   }
  }
 },
 "nbformat": 4,
 "nbformat_minor": 2
}
